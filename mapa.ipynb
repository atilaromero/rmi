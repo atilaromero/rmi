{
 "cells": [
  {
   "cell_type": "code",
   "execution_count": 4,
   "metadata": {},
   "outputs": [],
   "source": [
    "from PIL import Image\n",
    "import matplotlib.pyplot as plt\n",
    "from matplotlib.pyplot import imshow\n",
    "import numpy as np"
   ]
  },
  {
   "cell_type": "code",
   "execution_count": 5,
   "metadata": {},
   "outputs": [],
   "source": [
    "## para deixar as imagens maiores\n",
    "#plt.rcParams['figure.figsize'] = [10, 5]"
   ]
  },
  {
   "cell_type": "code",
   "execution_count": 115,
   "metadata": {},
   "outputs": [],
   "source": [
    "v = np.ones((30,50)) * 0.5"
   ]
  },
  {
   "cell_type": "code",
   "execution_count": 116,
   "metadata": {},
   "outputs": [],
   "source": [
    "v[0,:]=1\n",
    "v[-1,:]=1\n",
    "v[:,0]=1\n",
    "v[:,-1]=1"
   ]
  },
  {
   "cell_type": "code",
   "execution_count": 117,
   "metadata": {},
   "outputs": [],
   "source": [
    "v[10:15,20:25] = 1"
   ]
  },
  {
   "cell_type": "code",
   "execution_count": 118,
   "metadata": {},
   "outputs": [],
   "source": [
    "v[20:25,40:45] = 0"
   ]
  },
  {
   "cell_type": "code",
   "execution_count": 119,
   "metadata": {},
   "outputs": [
    {
     "data": {
      "text/plain": [
       "<matplotlib.image.AxesImage at 0x7f1bb8581908>"
      ]
     },
     "execution_count": 119,
     "metadata": {},
     "output_type": "execute_result"
    },
    {
     "data": {
      "image/png": "[encoded data removed]",
      "text/plain": [
       "<Figure size 432x288 with 1 Axes>"
      ]
     },
     "metadata": {},
     "output_type": "display_data"
    }
   ],
   "source": [
    "img = Image.fromarray(np.uint8((1-v) * 255) , 'L')\n",
    "imshow(img)"
   ]
  },
  {
   "cell_type": "code",
   "execution_count": 120,
   "metadata": {
    "scrolled": false
   },
   "outputs": [
    {
     "name": "stdout",
     "output_type": "stream",
     "text": [
      "386\n"
     ]
    }
   ],
   "source": [
    "h,w = v.shape\n",
    "oldv = v.copy()\n",
    "newv = v.copy()\n",
    "for t in range(1000):\n",
    "    updated=False\n",
    "    for x in range(h):\n",
    "        for y in range(w):\n",
    "            if v[x,y] not in (0.,1.):\n",
    "                if oldv[x,y] <= min(oldv[x-1,y],oldv[x+1,y],oldv[x,y-1],oldv[x,y+1]):\n",
    "                    updated = True\n",
    "                newv[x,y] = (oldv[x-1,y]+oldv[x+1,y]+oldv[x,y-1]+oldv[x,y+1])/4\n",
    "    oldv=newv.copy()\n",
    "    if not updated:\n",
    "        break\n",
    "print(t)"
   ]
  },
  {
   "cell_type": "code",
   "execution_count": 121,
   "metadata": {},
   "outputs": [
    {
     "data": {
      "text/plain": [
       "<matplotlib.image.AxesImage at 0x7f1bb8557588>"
      ]
     },
     "execution_count": 121,
     "metadata": {},
     "output_type": "execute_result"
    },
    {
     "data": {
      "image/png": "[encoded data removed]",
      "text/plain": [
       "<Figure size 432x288 with 1 Axes>"
      ]
     },
     "metadata": {},
     "output_type": "display_data"
    }
   ],
   "source": [
    "img = Image.fromarray(np.uint8((1-oldv) * 255) , 'L')\n",
    "imshow(img)"
   ]
  },
  {
   "cell_type": "code",
   "execution_count": 138,
   "metadata": {},
   "outputs": [
    {
     "data": {
      "text/plain": [
       "<matplotlib.image.AxesImage at 0x7f1bb804b898>"
      ]
     },
     "execution_count": 138,
     "metadata": {},
     "output_type": "execute_result"
    },
    {
     "data": {
      "image/png": "[encoded data removed]",
      "text/plain": [
       "<Figure size 432x288 with 1 Axes>"
      ]
     },
     "metadata": {},
     "output_type": "display_data"
    }
   ],
   "source": [
    "path = np.zeros(v.shape)\n",
    "x,y = 1, 1\n",
    "while v[x,y] != 0:\n",
    "    path[x,y] = 1\n",
    "    x,y = min((x-1,y), (x+1,y), (x,y-1), (x,y+1), key=lambda a:newv[a[0],a[1]])\n",
    "img = Image.fromarray(np.uint8((1-(path*0.7 + v)) * 255) , 'L')\n",
    "imshow(img)    "
   ]
  },
  {
   "cell_type": "code",
   "execution_count": 158,
   "metadata": {},
   "outputs": [
    {
     "name": "stdout",
     "output_type": "stream",
     "text": [
      "9 10 41.0\n",
      "11 10 39.0\n",
      "10 9 41.0\n",
      "10 11 39.0\n",
      "999999999 9 11 1000.0\n",
      "8 11 41.0\n",
      "10 11 39.0\n",
      "9 10 41.0\n",
      "9 12 39.0\n",
      "999999999 8 12 1000.0\n",
      "7 12 41.0\n",
      "9 12 39.0\n",
      "8 11 41.0\n",
      "8 13 39.0\n",
      "999999999 7 13 1000.0\n",
      "6 13 41.0\n",
      "8 13 39.0\n",
      "7 12 41.0\n",
      "7 14 39.0\n",
      "999999999 6 14 1000.0\n",
      "5 14 41.0\n",
      "7 14 39.0\n",
      "6 13 41.0\n",
      "6 15 39.0\n",
      "999999999 5 15 1000.0\n",
      "4 15 41.0\n",
      "6 15 39.0\n",
      "5 14 41.0\n",
      "5 16 39.0\n",
      "999999999 4 16 1000.0\n",
      "3 16 41.0\n",
      "5 16 39.0\n",
      "4 15 41.0\n",
      "4 17 39.0\n",
      "999999999 3 17 1000.0\n",
      "2 17 41.0\n",
      "4 17 39.0\n",
      "3 16 41.0\n",
      "3 18 39.0\n",
      "999999999 2 18 1000.0\n",
      "1 18 41.0\n",
      "3 18 39.0\n",
      "2 17 41.0\n",
      "2 19 39.0\n",
      "999999999 1 19 1000.0\n",
      "0 19 1.0\n",
      "2 19 39.0\n",
      "1 18 41.0\n",
      "1 20 39.0\n",
      "999999999 0 20 1000.0\n"
     ]
    }
   ],
   "source": [
    "cost = np.ones((h,w))*1000\n",
    "cost\n",
    "\n",
    "pos = (10,10)\n",
    "goal = (20,40)\n",
    "for t in range(10):\n",
    "    x,y = pos\n",
    "    for x,y in [(x-1,y), (x+1,y), (x,y-1), (x,y+1)]:\n",
    "        if v[x,y] in [0,1]:\n",
    "            cost[x,y] = v[x,y]\n",
    "        if cost[x,y] == 1000:\n",
    "            cost[x,y] = abs(goal[0]-x) + abs(goal[1]-y) # manhattan\n",
    "        print(x,y , cost[x,y])\n",
    "    x,y = min((x-1,y), (x+1,y), (x,y-1), (x,y+1), key=lambda a:cost[a[0], a[1]])\n",
    "    pos = (x,y)\n",
    "    print(999999999,x,y , cost[x,y])"
   ]
  },
  {
   "cell_type": "code",
   "execution_count": null,
   "metadata": {},
   "outputs": [],
   "source": []
  },
  {
   "cell_type": "code",
   "execution_count": null,
   "metadata": {},
   "outputs": [],
   "source": []
  }
 ],
 "metadata": {
  "kernelspec": {
   "display_name": "Python 3",
   "language": "python",
   "name": "python3"
  },
  "language_info": {
   "codemirror_mode": {
    "name": "ipython",
    "version": 3
   },
   "file_extension": ".py",
   "mimetype": "text/x-python",
   "name": "python",
   "nbconvert_exporter": "python",
   "pygments_lexer": "ipython3",
   "version": "3.6.6"
  }
 },
 "nbformat": 4,
 "nbformat_minor": 2
}
